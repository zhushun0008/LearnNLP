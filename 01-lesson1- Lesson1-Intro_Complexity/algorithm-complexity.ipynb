{
 "cells": [
  {
   "cell_type": "markdown",
   "metadata": {},
   "source": [
    "### 时间复杂度和空间复杂度\n",
    "\n",
    "这是任何AI工程师必须要深入理解的概念。对于每一个设计出来的算法都需要从这两个方面来分析\n",
    "O(N), O(N^2) : o notation"
   ]
  },
  {
   "cell_type": "code",
   "execution_count": null,
   "metadata": {
    "collapsed": true
   },
   "outputs": [],
   "source": [
    "int a = 0, b = 0; \n",
    "\n",
    "for (i = 0; i < N; i++) { #  O(N)+O(N)=2*O(N)=O(N)\n",
    "    a = a + rand();# N*1个操作 = O(N)\n",
    "    b = b + rand();# N*1个操作 = O(N)\n",
    "} \n",
    "for (j = 0; j < N/2; j++) { \n",
    "    b = b + rand(); # N/2 *1个操作 = 1/2*O(N)=O(N)\n",
    "} \n",
    "\n",
    "\n"
   ]
  },
  {
   "cell_type": "markdown",
   "metadata": {},
   "source": [
    "时间复杂度？ 空间复杂度？\n",
    "\n"
   ]
  },
  {
   "cell_type": "code",
   "execution_count": null,
   "metadata": {
    "collapsed": true
   },
   "outputs": [],
   "source": [
    "int a = 0; i,j\n",
    "for (i = 0; i < N; i++) {      \n",
    "    for (j = N; j > i; j--) { \n",
    "        a = a + i + j; \n",
    "    } \n",
    "} \n",
    "\n"
   ]
  },
  {
   "cell_type": "code",
   "execution_count": null,
   "metadata": {
    "collapsed": true
   },
   "outputs": [],
   "source": [
    "时间复杂度：O(N^2); 空间复杂度:O(1)"
   ]
  },
  {
   "cell_type": "code",
   "execution_count": null,
   "metadata": {
    "collapsed": true
   },
   "outputs": [],
   "source": [
    "int i, j, k = 0; \n",
    "for (i = n / 2; i <= n; i++) { \n",
    "    for (j = 2; j <= n; j = j * 2) { \n",
    "        k = k + n / 2; \n",
    "    } \n",
    "} \n",
    "\n"
   ]
  },
  {
   "cell_type": "code",
   "execution_count": null,
   "metadata": {
    "collapsed": true
   },
   "outputs": [],
   "source": []
  },
  {
   "cell_type": "code",
   "execution_count": null,
   "metadata": {
    "collapsed": true
   },
   "outputs": [],
   "source": [
    "int a = 0, i = N; \n",
    "while (i > 0) { \n",
    "    a += i;  # 1个操作\n",
    "    i /= 2;   #1个操作\n",
    "} \n",
    "\n",
    "N = 40;  i=40\n",
    "\n",
    "\n"
   ]
  },
  {
   "cell_type": "code",
   "execution_count": null,
   "metadata": {
    "collapsed": true
   },
   "outputs": [],
   "source": []
  },
  {
   "cell_type": "markdown",
   "metadata": {
    "collapsed": true
   },
   "source": [
    "我们每当说算法X的效率要高于Y时指的是？  时间复杂度\n",
    "X: o(log n) >  Y: o(n)\n",
    "   o(n log n) > Y: o(n^2)\n",
    "   \n",
    "X实际的效率（秒来） > Y实际的效率（秒） 不一定！！！\n",
    "n足够大"
   ]
  },
  {
   "cell_type": "code",
   "execution_count": 1,
   "metadata": {},
   "outputs": [
    {
     "ename": "SyntaxError",
     "evalue": "invalid character in identifier (<ipython-input-1-02a11677faaf>, line 1)",
     "output_type": "error",
     "traceback": [
      "\u001b[0;36m  File \u001b[0;32m\"<ipython-input-1-02a11677faaf>\"\u001b[0;36m, line \u001b[0;32m1\u001b[0m\n\u001b[0;31m    定理： if x的时间复杂度要优于y的时间复杂度，那么，假设存在一个足够大的数M，当\u001b[0m\n\u001b[0m      ^\u001b[0m\n\u001b[0;31mSyntaxError\u001b[0m\u001b[0;31m:\u001b[0m invalid character in identifier\n"
     ]
    }
   ],
   "source": [
    "定理： if x的时间复杂度要优于y的时间复杂度，那么，假设存在一个足够大的数M，当\n",
    "n>M时，我们可以保证X的实际效率要优于Y的实际效率\n",
    "\n",
    "C* O(N) = O(N) if only if C跟N没有相关性 \n",
    "\n",
    "O(1)  O(log n)   o(n) o(nlog n): quicksort, heapsort, mergesort  o(n^2)  o(n^3).. o(2^n) o(3^n) \n",
    "o(log n): 寻找一个element (从tree,heap), binary search"
   ]
  },
  {
   "cell_type": "code",
   "execution_count": null,
   "metadata": {},
   "outputs": [],
   "source": []
  }
 ],
 "metadata": {
  "kernelspec": {
   "display_name": "Python 3",
   "language": "python",
   "name": "python3"
  },
  "language_info": {
   "codemirror_mode": {
    "name": "ipython",
    "version": 3
   },
   "file_extension": ".py",
   "mimetype": "text/x-python",
   "name": "python",
   "nbconvert_exporter": "python",
   "pygments_lexer": "ipython3",
   "version": "3.7.1"
  }
 },
 "nbformat": 4,
 "nbformat_minor": 2
}
