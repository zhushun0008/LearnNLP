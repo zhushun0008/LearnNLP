{
 "cells": [
  {
   "cell_type": "markdown",
   "metadata": {},
   "source": [
    "### 例子： Fibonanci number (斐波那契数)\n",
    "序列一次为 1，1，2，3，5，8，13，21，....\n",
    "问题： 怎么求出序列中第N个数？ "
   ]
  },
  {
   "cell_type": "code",
   "execution_count": 2,
   "metadata": {
    "collapsed": true
   },
   "outputs": [],
   "source": [
    "def fib(n):\n",
    "    \"\"\"\n",
    "    我们假设 n=>0 \n",
    "    \"\"\"\n",
    "    if n < 3: \n",
    "        return 1\n",
    "    else:\n",
    "        return fib(n-2)+fib(n-1)"
   ]
  },
  {
   "cell_type": "code",
   "execution_count": null,
   "metadata": {
    "collapsed": true
   },
   "outputs": [],
   "source": []
  },
  {
   "cell_type": "code",
   "execution_count": null,
   "metadata": {},
   "outputs": [],
   "source": [
    "print (fib(50))  "
   ]
  },
  {
   "cell_type": "code",
   "execution_count": 3,
   "metadata": {
    "collapsed": true
   },
   "outputs": [],
   "source": [
    "# 利用动态规划来解决此问题\n",
    "import numpy as np\n",
    "\n",
    "def fib_dp(n):\n",
    "    tmp = np.zeros(n)  # 数组\n",
    "    tmp[0] = 1\n",
    "    tmp[1] = 1\n",
    "    for i in range(2,n):\n",
    "        tmp[i] = tmp[i-2] + tmp[i-1]\n",
    "    \n",
    "    return tmp[n-1]\n",
    "\n",
    "时间复杂度 o(n)   空间复杂度： o(n)"
   ]
  },
  {
   "cell_type": "code",
   "execution_count": 5,
   "metadata": {},
   "outputs": [
    {
     "name": "stdout",
     "output_type": "stream",
     "text": [
      "354224848179261997056\n"
     ]
    }
   ],
   "source": [
    "print (int(fib_dp(100)))"
   ]
  },
  {
   "cell_type": "code",
   "execution_count": null,
   "metadata": {
    "collapsed": true
   },
   "outputs": [],
   "source": [
    "def fib_dp2(n):\n",
    "    a,b=1,1\n",
    "    c = 0\n",
    "    for i in range(2,n):\n",
    "        c = a + b\n",
    "        a = b\n",
    "        b = c\n",
    "    return c"
   ]
  },
  {
   "cell_type": "code",
   "execution_count": null,
   "metadata": {},
   "outputs": [],
   "source": [
    "print (fib_dp2(10))"
   ]
  },
  {
   "cell_type": "code",
   "execution_count": null,
   "metadata": {
    "collapsed": true
   },
   "outputs": [],
   "source": [
    "def image_segment(image):\n",
    "    \"\"\"\n",
    "    这个函数主要做XXXXX\n",
    "    \n",
    "    这个函数的时间复杂度。。， 空间复杂度。。。，在最坏情况下的复杂度...\n",
    "    \"\"\"\n",
    "    # ......\n",
    "    # ...\n",
    "\n"
   ]
  }
 ],
 "metadata": {
  "kernelspec": {
   "display_name": "Python 3",
   "language": "python",
   "name": "python3"
  },
  "language_info": {
   "codemirror_mode": {
    "name": "ipython",
    "version": 3
   },
   "file_extension": ".py",
   "mimetype": "text/x-python",
   "name": "python",
   "nbconvert_exporter": "python",
   "pygments_lexer": "ipython3",
   "version": "3.7.1"
  }
 },
 "nbformat": 4,
 "nbformat_minor": 2
}
