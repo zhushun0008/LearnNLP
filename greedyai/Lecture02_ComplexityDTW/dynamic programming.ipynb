{
 "cells": [
  {
   "cell_type": "markdown",
   "metadata": {},
   "source": [
    "### Problem 1: Dynamic Time Warping\n",
    "这个算法可以用来计算两个序列之间的距离，比如可以用来做语音识别、股票相似K线的计算，任意不等长序列之间的距离计算。这个问题也叫做sequential alignment. 其实就是用来找出两个序列的alignment, 可以用如下图来描述：\n",
    "![alt text](image1.png \"Title\")\n"
   ]
  },
  {
   "cell_type": "markdown",
   "metadata": {},
   "source": [
    "在DTW的实现中，需要考虑几点：\n",
    "1. 起始点与终止点： 一般起始点采用(0,0), 终止点采用 (len(s), len(t))\n",
    "2. Local continuity:  在局部上做alignment的时候可以稍微灵活一些，比如跳过1个value等。 下图展示的是一种方式：\n",
    "![alt text](image2.png \"Title\")\n",
    "3. Global Continuity:  从全局的角度设定的限制条件\n",
    "4. 另外就是每一个路径的权重"
   ]
  },
  {
   "cell_type": "code",
   "execution_count": 10,
   "metadata": {},
   "outputs": [
    {
     "data": {
      "text/plain": [
       "3.0"
      ]
     },
     "execution_count": 10,
     "metadata": {},
     "output_type": "execute_result"
    }
   ],
   "source": [
    "import numpy as np\n",
    "import sys\n",
    "\n",
    "# 定义距离\n",
    "def euc_dist(v1, v2):\n",
    "    return np.abs(v1-v2)\n",
    "\n",
    "# DTW的核心过程，实现动态规划\n",
    "def dtw(s, t):\n",
    "    \"\"\"\n",
    "    s: source sequence\n",
    "    t: target sequence\n",
    "    \"\"\"\n",
    "    m, n = len(s), len(t)\n",
    "    dtw = np.zeros((m, n))\n",
    "    dtw.fill(sys.maxsize)\n",
    "    \n",
    "    # 初始化过程\n",
    "    dtw[0,0] = euc_dist(s[0], t[0])\n",
    "    for i in range (1,m):\n",
    "        dtw[i,0] = dtw[i-1,0] + euc_dist(s[i], t[0])\n",
    "    for i in range (1,n):\n",
    "        dtw[0,i] = dtw[0,i-1] + euc_dist(s[0], t[i])\n",
    "    \n",
    "    # 核心动态规划流程，此动态规划的过程依赖于上面的图\n",
    "    for i in range(1, m): # dp[][]\n",
    "        for j in range(max(1, i- 10), min(n, i+10)):\n",
    "            cost = euc_dist(s[i], t[j])\n",
    "            ds = []\n",
    "            ds.append(cost+dtw[i-1, j])\n",
    "            ds.append(cost+dtw[i,j-1])\n",
    "            ds.append(2*cost+dtw[i-1,j-1])\n",
    "            ds.append(3*cost + dtw[i-1,j-2] if j>1 else sys.maxsize)\n",
    "            ds.append(3*cost+dtw[i-2,j-1] if i>2 else sys.maxsize)\n",
    "            # pointer \n",
    "            dtw[i,j] = min(ds)\n",
    "    \n",
    "    return dtw[m-1, n-1]\n",
    "\n",
    "\n",
    "dtw([5,6,9], [5,6,7])"
   ]
  },
  {
   "cell_type": "code",
   "execution_count": null,
   "metadata": {},
   "outputs": [],
   "source": []
  },
  {
   "cell_type": "markdown",
   "metadata": {},
   "source": [
    "### Problem  2：  Edit Distance (编辑距离）\n",
    "编辑距离用来计算两个字符串之间的最短距离，这里涉及到三个不通过的操作，add, delete和replace. 每一个操作我们假定需要1各单位的cost. \n",
    "\n",
    "例子： \"apple\", \"appl\" 之间的编辑距离为1 （需要1个删除的操作）\n",
    "spell correction\n",
    "\"machine\", \"macaide\" dist = 2\n",
    "\"mach\", \"aaach\"  dist=2\n",
    "\n",
    "s1 s2 s3 s4\n",
    "\n",
    "t1 t2 t3 t4 t5\n",
    "\n",
    "if s4==t5:\n",
    "    return edit_dist([s1,s2,s3], [t1,t2,t3,t4])\n",
    "    \n",
    "if s4!=s5:\n",
    "    1. replace s4 replaced by t5:\n",
    "        return edit_dist([s1,s2,s3], [t1,t2,t3,t4]) + 1\n",
    "    2. add\n",
    "    3. delete"
   ]
  },
  {
   "cell_type": "code",
   "execution_count": 8,
   "metadata": {},
   "outputs": [],
   "source": [
    "# 基于动态规划的解法\n",
    "def edit_dist(str1, str2):\n",
    "    \n",
    "    # m，n分别字符串str1和str2的长度\n",
    "    m, n = len(str1), len(str2)\n",
    "    \n",
    "    # 构建二位数组来存储子问题（sub-problem)的答案 \n",
    "    dp = [[0 for x in range(n+1)] for x in range(m+1)] \n",
    "      \n",
    "    # 利用动态规划算法，填充数组\n",
    "    for i in range(m+1): \n",
    "        for j in range(n+1): \n",
    "  \n",
    "            # 假设第一个字符串为空，则转换的代价为j (j次的插入)\n",
    "            if i == 0: \n",
    "                dp[i][j] = j    \n",
    "              \n",
    "            # 同样的，假设第二个字符串为空，则转换的代价为i (i次的插入)\n",
    "            elif j == 0:\n",
    "                dp[i][j] = i\n",
    "            \n",
    "            # 如果最后一个字符相等，就不会产生代价\n",
    "            elif str1[i-1] == str2[j-1]: \n",
    "                dp[i][j] = dp[i-1][j-1] \n",
    "  \n",
    "            # 如果最后一个字符不一样，则考虑多种可能性，并且选择其中最小的值\n",
    "            else: \n",
    "                dp[i][j] = 1 + min(dp[i][j-1],        # Insert \n",
    "                                   dp[i-1][j],        # Remove \n",
    "                                   dp[i-1][j-1])      # Replace \n",
    "  \n",
    "    return dp[m][n] "
   ]
  },
  {
   "cell_type": "code",
   "execution_count": 9,
   "metadata": {},
   "outputs": [
    {
     "data": {
      "text/plain": [
       "2"
      ]
     },
     "execution_count": 9,
     "metadata": {},
     "output_type": "execute_result"
    }
   ],
   "source": [
    "edit_dist(\"apple\", \"app\")"
   ]
  },
  {
   "cell_type": "markdown",
   "metadata": {},
   "source": []
  },
  {
   "cell_type": "code",
   "execution_count": null,
   "metadata": {},
   "outputs": [],
   "source": []
  },
  {
   "cell_type": "code",
   "execution_count": null,
   "metadata": {},
   "outputs": [],
   "source": []
  },
  {
   "cell_type": "code",
   "execution_count": null,
   "metadata": {},
   "outputs": [],
   "source": []
  },
  {
   "cell_type": "code",
   "execution_count": null,
   "metadata": {},
   "outputs": [],
   "source": []
  },
  {
   "cell_type": "code",
   "execution_count": null,
   "metadata": {},
   "outputs": [],
   "source": []
  }
 ],
 "metadata": {
  "kernelspec": {
   "display_name": "Python 3",
   "language": "python",
   "name": "python3"
  },
  "language_info": {
   "codemirror_mode": {
    "name": "ipython",
    "version": 3
   },
   "file_extension": ".py",
   "mimetype": "text/x-python",
   "name": "python",
   "nbconvert_exporter": "python",
   "pygments_lexer": "ipython3",
   "version": "3.7.1"
  }
 },
 "nbformat": 4,
 "nbformat_minor": 2
}
