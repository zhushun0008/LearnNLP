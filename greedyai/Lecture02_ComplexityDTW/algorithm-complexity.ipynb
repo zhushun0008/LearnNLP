{
 "cells": [
  {
   "cell_type": "markdown",
   "metadata": {},
   "source": [
    "### 时间复杂度和空间复杂度\n",
    "\n",
    "这是任何AI工程师必须要深入理解的概念。对于每一个设计出来的算法都需要从这两个方面来分析\n",
    "O(N), O(N^2) : o notation"
   ]
  },
  {
   "cell_type": "code",
   "execution_count": null,
   "metadata": {},
   "outputs": [],
   "source": [
    "int a = 0, b = 0; \n",
    "\n",
    "\n",
    "for (i = 0; i < N; i++) {\n",
    "    a = a + rand();  \n",
    "    b = b + rand();   \n",
    "}\n",
    "\n",
    "O(N)\n",
    "\n",
    "\n",
    "\n",
    "\n",
    "for i in range(N):\n",
    "    a = a + 1\n",
    "    b = b + 1\n",
    "\n",
    "\n",
    "for (j = 0; j < N/2; j++) { \n",
    "    b = b + rand();  1\n",
    "} \n",
    "\n",
    "O(N)\n"
   ]
  },
  {
   "cell_type": "markdown",
   "metadata": {},
   "source": [
    "时间复杂度？ 空间复杂度？\n",
    "\n"
   ]
  },
  {
   "cell_type": "code",
   "execution_count": null,
   "metadata": {},
   "outputs": [],
   "source": [
    "int a = 0; i,j\n",
    "for (i = 0; i < N; i++) {      \n",
    "    for (j = N; j > i; j--) { \n",
    "        a = a + i + j;  1\n",
    "    } \n",
    "}\n",
    "\n",
    "\n",
    "for i in range(N):\n",
    "    for j in range(N/2):\n",
    "        a = a + 1\n"
   ]
  },
  {
   "cell_type": "code",
   "execution_count": null,
   "metadata": {},
   "outputs": [],
   "source": [
    "for i in range(N):\n",
    "    j=1\n",
    "    while j <= N:\n",
    "        a = a + 1\n",
    "        j = j * 2\n",
    "        \n",
    "        O(LOG N)"
   ]
  },
  {
   "cell_type": "code",
   "execution_count": null,
   "metadata": {},
   "outputs": [],
   "source": [
    "int i, j, k = 0; \n",
    "for (i = n / 2; i <= n; i++) {  # O(N)\n",
    "    for (j = 2; j <= n; j = j * 2) {    # o(logN)\n",
    "        k = k + n / 2; \n",
    "    } \n",
    "} \n",
    "\n",
    "for i in range(N/2):\n",
    "    while j <= N:\n",
    "        a = a + 1\n",
    "        j = j/2\n",
    "        "
   ]
  },
  {
   "cell_type": "code",
   "execution_count": null,
   "metadata": {},
   "outputs": [],
   "source": []
  },
  {
   "cell_type": "code",
   "execution_count": null,
   "metadata": {},
   "outputs": [],
   "source": [
    "int a = 0, i = N; \n",
    "while (i > 0) {  # log N\n",
    "    a += i;  # 1个操作\n",
    "    i /= 2;   #1个操作\n",
    "} \n",
    "\n",
    "\n",
    "\n"
   ]
  },
  {
   "cell_type": "code",
   "execution_count": null,
   "metadata": {},
   "outputs": [],
   "source": []
  },
  {
   "cell_type": "markdown",
   "metadata": {
    "collapsed": true
   },
   "source": [
    "我们每当说算法X的效率要高于Y时指的是？  时间复杂度\n",
    "\n",
    "X: o(log n) >  Y: o(n)\n",
    "   o(n log n) > Y: o(n^2)\n",
    "   \n",
    "X实际的效率（秒来） > Y实际的效率（秒） 不一定！！！\n",
    "n足够大"
   ]
  },
  {
   "cell_type": "code",
   "execution_count": null,
   "metadata": {},
   "outputs": [],
   "source": [
    "定理： if x的时间复杂度要优于y的时间复杂度，那么，假设存在一个足够大的数M，当\n",
    "n>M时，我们可以保证X的实际效率要优于Y的实际效率"
   ]
  },
  {
   "cell_type": "code",
   "execution_count": null,
   "metadata": {},
   "outputs": [],
   "source": [
    "X > Y  比如N=100, 实际的运行效率有可能Y是更快的。。 但是， M=10^6, N > 10^6, 我们其实可以保证X的实际效率会更高\n",
    "x asymtoitically faster than y"
   ]
  }
 ],
 "metadata": {
  "kernelspec": {
   "display_name": "Python 3",
   "language": "python",
   "name": "python3"
  },
  "language_info": {
   "codemirror_mode": {
    "name": "ipython",
    "version": 3
   },
   "file_extension": ".py",
   "mimetype": "text/x-python",
   "name": "python",
   "nbconvert_exporter": "python",
   "pygments_lexer": "ipython3",
   "version": "3.7.1"
  }
 },
 "nbformat": 4,
 "nbformat_minor": 2
}
